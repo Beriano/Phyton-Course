{
 "cells": [
  {
   "cell_type": "code",
   "execution_count": null,
   "metadata": {},
   "outputs": [],
   "source": [
    "\n",
    "#1. Mayor de Tres Números: Cargar tres números distintos por teclado y mostrar cuál es el mayor.\n",
    "\n",
    "# Solicitar tres números distintos al usuario\n",
    "num1 = float(input(\"Introduce el primer número: \"))\n",
    "num2 = float(input(\"Introduce el segundo número: \"))\n",
    "num3 = float(input(\"Introduce el tercer número: \"))\n",
    "\n",
    "# Determinar el mayor de los tres números\n",
    "if num1 > num2 and num1 > num3:\n",
    "    mayor = num1\n",
    "elif num2 > num1 and num2 > num3:\n",
    "    mayor = num2\n",
    "else:\n",
    "    mayor = num3\n",
    "\n",
    "# Mostrar el mayor número\n",
    "print(f\"El mayor de los tres números es: {mayor}\")\n"
   ]
  },
  {
   "cell_type": "code",
   "execution_count": null,
   "metadata": {},
   "outputs": [],
   "source": [
    "#2. Clasificación de Números: Ingresar un número entero y mostrar si es positivo, negativo o nulo (cero).\n",
    "\n",
    "# Solicitar un número entero al usuario\n",
    "numero = int(input(\"Introduce un número entero: \"))\n",
    "\n",
    "# Clasificar el número como positivo, negativo o nulo\n",
    "if numero > 0:\n",
    "    print(\"El número es positivo.\")\n",
    "elif numero < 0:\n",
    "    print(\"El número es negativo.\")\n",
    "else:\n",
    "    print(\"El número es nulo (cero).\")\n"
   ]
  },
  {
   "cell_type": "code",
   "execution_count": null,
   "metadata": {},
   "outputs": [],
   "source": [
    "#3. Verificar Navidad: Crear un programa que pida una fecha y verifique si corresponde a Navidad (25 de diciembre).\n",
    "def es_navidad(fecha):\n",
    "    # Separar la fecha en día, mes y año\n",
    "    dia, mes, año = map(int, fecha.split('/'))\n",
    "    \n",
    "    # Verificar si es 25 de diciembre\n",
    "    if dia == 25 and mes == 12:\n",
    "        return True\n",
    "    else:\n",
    "        return False\n",
    "\n",
    "# Solicitar la fecha al usuario\n",
    "fecha = input(\"Introduce una fecha (dd/mm/aaaa): \")\n",
    "\n",
    "# Verificar si la fecha es Navidad\n",
    "if es_navidad(fecha):\n",
    "    print(\"¡Es Navidad!\")\n",
    "else:\n",
    "    print(\"No es Navidad.\")"
   ]
  },
  {
   "cell_type": "code",
   "execution_count": null,
   "metadata": {},
   "outputs": [],
   "source": [
    "#4. Menores a Diez: Ingresar tres números. Si todos son menores a 10, imprimir \"Todos los números son menores a diez\". Si al menos uno es menor a 10, imprimir \"Alguno de los números es menor a diez\".\n",
    "\n",
    "# Solicitar tres números al usuario\n",
    "num1 = float(input(\"Introduce el primer número: \"))\n",
    "num2 = float(input(\"Introduce el segundo número: \"))\n",
    "num3 = float(input(\"Introduce el tercer número: \"))\n",
    "\n",
    "# Verificar las condiciones\n",
    "if num1 < 10 and num2 < 10 and num3 < 10:\n",
    "    print(\"Todos los números son menores a diez.\")\n",
    "elif num1 < 10 or num2 < 10 or num3 < 10:\n",
    "    print(\"Alguno de los números es menor a diez.\")\n",
    "else:\n",
    "    print(\"Ninguno de los números es menor a diez.\")"
   ]
  },
  {
   "cell_type": "code",
   "execution_count": null,
   "metadata": {},
   "outputs": [],
   "source": [
    "#5. Contador hasta un Número: Codificar un programa que solicite un valor positivo e imprima los números del 1 hasta ese valor.\n",
    "\n",
    "# Solicitar un valor positivo al usuario\n",
    "valor = int(input(\"Introduce un valor positivo: \"))\n",
    "\n",
    "# Verificar que el valor sea positivo\n",
    "if valor > 0:\n",
    "    # Imprimir los números del 1 hasta el valor ingresado\n",
    "    for i in range(1, valor + 1):\n",
    "        print(i)\n",
    "else:\n",
    "    print(\"El valor debe ser positivo.\")"
   ]
  },
  {
   "cell_type": "code",
   "execution_count": null,
   "metadata": {},
   "outputs": [],
   "source": [
    "# 6. Suma y Promedio de Valores: Desarrollar un programa que pida la carga de 10 valores y luego muestre la suma y el promedio de esos valores.\n",
    "\n",
    "# Insertar lista de valores\n",
    "valores = []\n",
    "\n",
    "# Hacer la carga de 10 valores\n",
    "for i in range(10):\n",
    "    valor = float(input(f\"Introduce el valor {i+1}: \"))\n",
    "    valores.append(valor)\n",
    "\n",
    "# Calcular la suma de los valores\n",
    "suma = sum(valores)\n",
    "\n",
    "# Calcular el promedio de los valores\n",
    "promedio = suma / len(valores)\n",
    "\n",
    "# Mostrar la suma y el promedio\n",
    "print(f\"La suma de los valores es: {suma}\")\n",
    "print(f\"El promedio de los valores es: {promedio}\")\n"
   ]
  },
  {
   "cell_type": "code",
   "execution_count": null,
   "metadata": {},
   "outputs": [],
   "source": [
    "#7. Básico: Escribir un programa que imprima los números del 1 al 50.\n",
    "# Imprimir los números del 1 al 50\n",
    "for i in range(1, 51):\n",
    "    print(i)\n"
   ]
  },
  {
   "cell_type": "code",
   "execution_count": null,
   "metadata": {},
   "outputs": [],
   "source": [
    "#8. Intermedio: Desarrollar un programa que solicite la carga de 5 números e imprima la suma de los números ingresados.\n",
    "\n",
    "# Inicializar una lista para almacenar los números\n",
    "numeros = []\n",
    "\n",
    "# Solicitar la carga de 5 números\n",
    "for i in range(5):\n",
    "    numero = float(input(f\"Introduce el número {i+1}: \"))\n",
    "    numeros.append(numero)\n",
    "\n",
    "# Calcular la suma de los números\n",
    "suma = sum(numeros)\n",
    "\n",
    "# Mostrar la suma de los números\n",
    "print(f\"La suma de los números ingresados es: {suma}\")"
   ]
  },
  {
   "cell_type": "code",
   "execution_count": null,
   "metadata": {},
   "outputs": [],
   "source": [
    "#9. Avanzado: Crear un programa que lea n pares de datos (base y altura) de triángulos, e informe la superficie de cada triángulo y cuántos tienen una superficie mayor a 12.# Función para calcular la superficie de un triángulo\n",
    "\n",
    "def calcular_superficie(base, altura):\n",
    "    return (base * altura) / 2\n",
    "\n",
    "# Solicitar el número de triángulos\n",
    "n = int(input(\"Introduce el número de triángulos: \"))\n",
    "\n",
    "# Inicializar el contador de triángulos con superficie mayor a 12\n",
    "contador_mayor_12 = 0\n",
    "\n",
    "# Leer los datos de cada triángulo y calcular la superficie\n",
    "for i in range(n):\n",
    "    print(f\"Triángulo {i+1}:\")\n",
    "    base = float(input(\"Introduce la base: \"))\n",
    "    altura = float(input(\"Introduce la altura: \"))\n",
    "    \n",
    "    superficie = calcular_superficie(base, altura)\n",
    "    print(f\"La superficie del triángulo {i+1} es: {superficie}\")\n",
    "    \n",
    "    # Verificar si la superficie es mayor a 12\n",
    "    if superficie > 12:\n",
    "        contador_mayor_12 += 1\n",
    "\n",
    "# Informar cuántos triángulos tienen una superficie mayor a 12\n",
    "print(f\"Cantidad de triángulos con superficie mayor a 12: {contador_mayor_12}\")\n"
   ]
  },
  {
   "cell_type": "code",
   "execution_count": null,
   "metadata": {},
   "outputs": [],
   "source": [
    "#10. Básico: Crea una lista con 5 enteros y calcula la suma de todos sus elementos.\n",
    "\n",
    "# Crear una lista con 5 enteros\n",
    "numeros = [10, 1, 9, 7, 5]\n",
    "\n",
    "# Calcular la suma de todos los elementos de la lista\n",
    "suma = sum(numeros)\n",
    "\n",
    "# Mostrar la suma de los elementos\n",
    "print(f\"La suma de todos los elementos de la lista es: {suma}\")\n",
    "\n"
   ]
  },
  {
   "cell_type": "code",
   "execution_count": null,
   "metadata": {},
   "outputs": [],
   "source": [
    "#11. Intermedio: Define una lista que contenga los nombres de los primeros cuatro meses del año y muestra solo el primer y el último mes.\n",
    "\n",
    "# Definir una lista con los nombres de los primeros cuatro meses del año\n",
    "meses = [\"Enero\", \"Febrero\", \"Marzo\", \"Abril\"]\n",
    "\n",
    "# Mostrar el primer y el último mes\n",
    "print(f\"El primer mes es: {meses[0]}\")\n",
    "print(f\"El último mes es: {meses[-1]}\")\n",
    "\n"
   ]
  },
  {
   "cell_type": "code",
   "execution_count": null,
   "metadata": {},
   "outputs": [],
   "source": [
    "#12. Avanzado: Crea una lista que almacene el nombre de un alumno y sus dos notas. Luego, imprime el nombre del alumno y el promedio de sus notas.\n",
    "\n",
    "# Inicializar una lista para almacenar los datos de los alumnos\n",
    "alumnos = []\n",
    "\n",
    "# Solicitar el número de alumnos\n",
    "num_alumnos = int(input(\"Introduce el número de alumnos: \"))\n",
    "\n",
    "# Solicitar los datos de cada alumno\n",
    "for i in range(num_alumnos):\n",
    "    nombre = input(f\"Introduce el nombre del alumno {i+1}: \")\n",
    "    nota1 = float(input(f\"Introduce la primera nota de {nombre}: \"))\n",
    "    nota2 = float(input(f\"Introduce la segunda nota de {nombre}: \"))\n",
    "    alumnos.append([nombre, nota1, nota2])\n",
    "\n",
    "# Imprimir el nombre de cada alumno y el promedio de sus notas\n",
    "for alumno in alumnos:\n",
    "    nombre = alumno[0]\n",
    "    promedio = (alumno[1] + alumno[2]) / 2\n",
    "    print(f\"Nombre del alumno: {nombre}\")\n",
    "    print(f\"Promedio de las notas: {promedio}\")\n"
   ]
  }
 ],
 "metadata": {
  "language_info": {
   "name": "python"
  }
 },
 "nbformat": 4,
 "nbformat_minor": 2
}
